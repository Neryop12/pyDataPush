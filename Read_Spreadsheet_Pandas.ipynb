{
 "cells": [
  {
   "cell_type": "code",
   "execution_count": 5,
   "metadata": {},
   "outputs": [],
   "source": [
    "import pandas as pd\n",
    ""
   ]
  },
  {
   "cell_type": "code",
   "execution_count": 7,
   "metadata": {},
   "outputs": [],
   "source": [
    "Spreadsheet=\"1fqS12Wc1UIo7v9Ma7OUjY00AdyAuBWnRuY0wx9wrVo4\""
   ]
  },
  {
   "cell_type": "code",
   "execution_count": 8,
   "metadata": {},
   "outputs": [],
   "source": [
    "url='https://docs.google.com/spreadsheet/ccc?key='+Spreadsheet+'&output=csv'"
   ]
  },
  {
   "cell_type": "code",
   "execution_count": 9,
   "metadata": {},
   "outputs": [],
   "source": [
    "df=pd.read_csv(url)"
   ]
  },
  {
   "cell_type": "code",
   "execution_count": 6,
   "metadata": {},
   "outputs": [
    {
     "output_type": "execute_result",
     "data": {
      "text/plain": "        Account ID                      Account   Campaign ID  \\\n0  281744985763997  Tortrix_PEPSICO_OMD_BMGT_S1  2.384439e+16   \n1  235887140410480    Pollo Campero El Salvador  2.384445e+16   \n2  369872100441561        CMI_PolloRey_PHD_BMGT  2.384441e+16   \n3  306521250142701          ClaroGT_OMD_BMGT_S1  2.384442e+16   \n4  369872100441561        CMI_PolloRey_PHD_BMGT  2.384441e+16   \n\n                                       Campaign name Country  \\\n0                                 Alcance Guardaitos      GT   \n1                         CANALES DIGITALES 2.0 UBER      SV   \n2  42091_GT_POLLOREY_POLLOREY_PREY_JUNTOS_JUNTOS_...      GT   \n3  42541_GT_CLARO_11_105_AOEQUIPOS_PLANES_FB_SA_A...      GT   \n4  42073_HN_POLLOREY_POLLOREY_PREY_JUNTOS_JUNTOS_...      HN   \n\n  Campaign objective Campaign status Campaign buying type  \\\n0              REACH          ACTIVE              AUCTION   \n1        LINK_CLICKS          ACTIVE              AUCTION   \n2              REACH          ACTIVE              AUCTION   \n3        CONVERSIONS          ACTIVE              AUCTION   \n4              REACH          ACTIVE              AUCTION   \n\n  Campaign spending limit Campaign start date  ... Outbound clicks  \\\n0                     NaN          2020-04-08  ...             NaN   \n1                     NaN          2020-03-26  ...          1878.0   \n2                     NaN          2020-04-03  ...             NaN   \n3                     NaN          2020-04-03  ...          1374.0   \n4                     NaN          2020-04-03  ...             NaN   \n\n   Video watches at 75%  Website conversions  Website conversion value  \\\n0                6658.0                  0.0                       0.0   \n1               24706.0                 13.0                       0.0   \n2                3727.0                  0.0                       0.0   \n3                9402.0                272.0                       0.0   \n4                4156.0                  0.0                       0.0   \n\n   Website leads conversion value  Unique leads  Cost per lead (form)  \\\n0                             NaN           NaN                   NaN   \n1                             NaN           NaN                   NaN   \n2                             NaN           NaN                   NaN   \n3                             NaN          63.0                   NaN   \n4                             NaN           NaN                   NaN   \n\n   Leads (form)  Unique conversions  Conversion value of purchase on Facebook  \n0           NaN                 NaN                                       NaN  \n1           NaN                 NaN                                       NaN  \n2           NaN                 NaN                                       NaN  \n3           NaN                 NaN                                       NaN  \n4           NaN                 NaN                                       NaN  \n\n[5 rows x 28 columns]",
      "text/html": "<div>\n<style scoped>\n    .dataframe tbody tr th:only-of-type {\n        vertical-align: middle;\n    }\n\n    .dataframe tbody tr th {\n        vertical-align: top;\n    }\n\n    .dataframe thead th {\n        text-align: right;\n    }\n</style>\n<table border=\"1\" class=\"dataframe\">\n  <thead>\n    <tr style=\"text-align: right;\">\n      <th></th>\n      <th>Account ID</th>\n      <th>Account</th>\n      <th>Campaign ID</th>\n      <th>Campaign name</th>\n      <th>Country</th>\n      <th>Campaign objective</th>\n      <th>Campaign status</th>\n      <th>Campaign buying type</th>\n      <th>Campaign spending limit</th>\n      <th>Campaign start date</th>\n      <th>...</th>\n      <th>Outbound clicks</th>\n      <th>Video watches at 75%</th>\n      <th>Website conversions</th>\n      <th>Website conversion value</th>\n      <th>Website leads conversion value</th>\n      <th>Unique leads</th>\n      <th>Cost per lead (form)</th>\n      <th>Leads (form)</th>\n      <th>Unique conversions</th>\n      <th>Conversion value of purchase on Facebook</th>\n    </tr>\n  </thead>\n  <tbody>\n    <tr>\n      <th>0</th>\n      <td>281744985763997</td>\n      <td>Tortrix_PEPSICO_OMD_BMGT_S1</td>\n      <td>2.384439e+16</td>\n      <td>Alcance Guardaitos</td>\n      <td>GT</td>\n      <td>REACH</td>\n      <td>ACTIVE</td>\n      <td>AUCTION</td>\n      <td>NaN</td>\n      <td>2020-04-08</td>\n      <td>...</td>\n      <td>NaN</td>\n      <td>6658.0</td>\n      <td>0.0</td>\n      <td>0.0</td>\n      <td>NaN</td>\n      <td>NaN</td>\n      <td>NaN</td>\n      <td>NaN</td>\n      <td>NaN</td>\n      <td>NaN</td>\n    </tr>\n    <tr>\n      <th>1</th>\n      <td>235887140410480</td>\n      <td>Pollo Campero El Salvador</td>\n      <td>2.384445e+16</td>\n      <td>CANALES DIGITALES 2.0 UBER</td>\n      <td>SV</td>\n      <td>LINK_CLICKS</td>\n      <td>ACTIVE</td>\n      <td>AUCTION</td>\n      <td>NaN</td>\n      <td>2020-03-26</td>\n      <td>...</td>\n      <td>1878.0</td>\n      <td>24706.0</td>\n      <td>13.0</td>\n      <td>0.0</td>\n      <td>NaN</td>\n      <td>NaN</td>\n      <td>NaN</td>\n      <td>NaN</td>\n      <td>NaN</td>\n      <td>NaN</td>\n    </tr>\n    <tr>\n      <th>2</th>\n      <td>369872100441561</td>\n      <td>CMI_PolloRey_PHD_BMGT</td>\n      <td>2.384441e+16</td>\n      <td>42091_GT_POLLOREY_POLLOREY_PREY_JUNTOS_JUNTOS_...</td>\n      <td>GT</td>\n      <td>REACH</td>\n      <td>ACTIVE</td>\n      <td>AUCTION</td>\n      <td>NaN</td>\n      <td>2020-04-03</td>\n      <td>...</td>\n      <td>NaN</td>\n      <td>3727.0</td>\n      <td>0.0</td>\n      <td>0.0</td>\n      <td>NaN</td>\n      <td>NaN</td>\n      <td>NaN</td>\n      <td>NaN</td>\n      <td>NaN</td>\n      <td>NaN</td>\n    </tr>\n    <tr>\n      <th>3</th>\n      <td>306521250142701</td>\n      <td>ClaroGT_OMD_BMGT_S1</td>\n      <td>2.384442e+16</td>\n      <td>42541_GT_CLARO_11_105_AOEQUIPOS_PLANES_FB_SA_A...</td>\n      <td>GT</td>\n      <td>CONVERSIONS</td>\n      <td>ACTIVE</td>\n      <td>AUCTION</td>\n      <td>NaN</td>\n      <td>2020-04-03</td>\n      <td>...</td>\n      <td>1374.0</td>\n      <td>9402.0</td>\n      <td>272.0</td>\n      <td>0.0</td>\n      <td>NaN</td>\n      <td>63.0</td>\n      <td>NaN</td>\n      <td>NaN</td>\n      <td>NaN</td>\n      <td>NaN</td>\n    </tr>\n    <tr>\n      <th>4</th>\n      <td>369872100441561</td>\n      <td>CMI_PolloRey_PHD_BMGT</td>\n      <td>2.384441e+16</td>\n      <td>42073_HN_POLLOREY_POLLOREY_PREY_JUNTOS_JUNTOS_...</td>\n      <td>HN</td>\n      <td>REACH</td>\n      <td>ACTIVE</td>\n      <td>AUCTION</td>\n      <td>NaN</td>\n      <td>2020-04-03</td>\n      <td>...</td>\n      <td>NaN</td>\n      <td>4156.0</td>\n      <td>0.0</td>\n      <td>0.0</td>\n      <td>NaN</td>\n      <td>NaN</td>\n      <td>NaN</td>\n      <td>NaN</td>\n      <td>NaN</td>\n      <td>NaN</td>\n    </tr>\n  </tbody>\n</table>\n<p>5 rows × 28 columns</p>\n</div>"
     },
     "metadata": {},
     "execution_count": 6
    }
   ],
   "source": [
    "df.head()"
   ]
  },
  {
   "cell_type": "code",
   "execution_count": null,
   "metadata": {},
   "outputs": [],
   "source": []
  },
  {
   "cell_type": "code",
   "execution_count": null,
   "metadata": {},
   "outputs": [],
   "source": []
  }
 ],
 "metadata": {
  "kernelspec": {
   "display_name": "Python 3",
   "language": "python",
   "name": "python3"
  },
  "language_info": {
   "codemirror_mode": {
    "name": "ipython",
    "version": 3
   },
   "file_extension": ".py",
   "mimetype": "text/x-python",
   "name": "python",
   "nbconvert_exporter": "python",
   "pygments_lexer": "ipython3",
   "version": "3.7.5-final"
  }
 },
 "nbformat": 4,
 "nbformat_minor": 4
}