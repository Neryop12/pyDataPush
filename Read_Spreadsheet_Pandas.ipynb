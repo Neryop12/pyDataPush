{
 "cells": [
  {
   "cell_type": "code",
   "execution_count": 1,
   "metadata": {},
   "outputs": [],
   "source": [
    "import pandas as pd\n",
    "import numpy as np"
   ]
  },
  {
   "cell_type": "code",
   "execution_count": 2,
   "metadata": {},
   "outputs": [],
   "source": [
    "Spreadsheet=\"1fqS12Wc1UIo7v9Ma7OUjY00AdyAuBWnRuY0wx9wrVo4\""
   ]
  },
  {
   "cell_type": "code",
   "execution_count": 3,
   "metadata": {},
   "outputs": [],
   "source": [
    "url='https://docs.google.com/spreadsheet/ccc?key='+Spreadsheet+'&output=csv'"
   ]
  },
  {
   "cell_type": "code",
   "execution_count": 4,
   "metadata": {},
   "outputs": [],
   "source": [
    "df=pd.read_csv(url)"
   ]
  },
  {
   "cell_type": "code",
   "execution_count": 5,
   "metadata": {},
   "outputs": [],
   "source": [
    "pd.set_option('display.precision',16)"
   ]
  },
  {
   "cell_type": "code",
   "execution_count": 6,
   "metadata": {},
   "outputs": [],
   "source": [
    "df=pd.DataFrame(df)"
   ]
  },
  {
   "cell_type": "code",
   "execution_count": 7,
   "metadata": {},
   "outputs": [],
   "source": [
    "df=df.fillna(0)"
   ]
  },
  {
   "cell_type": "code",
   "execution_count": 8,
   "metadata": {},
   "outputs": [
    {
     "output_type": "stream",
     "name": "stdout",
     "text": "Account        Account ID  \\\n0            Tortrix_PEPSICO_OMD_BMGT_S1   281744985763997   \n1              Pollo Campero El Salvador   235887140410480   \n2                    ClaroGT_OMD_BMGT_S1   306521250142701   \n3                  CMI_PolloRey_PHD_BMGT   369872100441561   \n4                  CMI_PolloRey_PHD_BMGT   369872100441561   \n..                                   ...               ...   \n327                               WAKAMI  1107430959322978   \n328                        WESTERN UNION   888079557924787   \n329                                 ZGAS   888079991258077   \n330                        ZONA LANDIVAR  1368500016549403   \n331  [PJ's]_PJ's - GTM_Guatemala_Loymark  2460499893978775   \n\n                                         Campaign name          Campaign ID  \\\n0                                   Alcance Guardaitos  23844388844700424.0   \n1    44094_SV_PC_CAMPERO_PCM_PIDELOCOMOQUIERAS_DELI...  23844547925980472.0   \n2    42877_GT_CLARO_14_101_AOFACEBOOK_FB_FB_PA_ABR_...  23844444289810344.0   \n3    42091_GT_POLLOREY_POLLOREY_PREY_JUNTOS_JUNTOS_...  23844414027210404.0   \n4    42073_HN_POLLOREY_POLLOREY_PREY_JUNTOS_JUNTOS_...  23844414094810404.0   \n..                                                 ...                  ...   \n327                                                  0                  0.0   \n328                                                  0                  0.0   \n329                                                  0                  0.0   \n330                                                  0                  0.0   \n331                                                  0                  0.0   \n\n    Country Campaign objective Campaign status Campaign buying type  \\\n0        GT              REACH          ACTIVE              AUCTION   \n1        SV        LINK_CLICKS          ACTIVE              AUCTION   \n2        GT              REACH          ACTIVE              AUCTION   \n3        GT              REACH          ACTIVE              AUCTION   \n4        HN              REACH          ACTIVE              AUCTION   \n..      ...                ...             ...                  ...   \n327       0                  0               0                    0   \n328       0                  0               0                    0   \n329       0                  0               0                    0   \n330       0                  0               0                    0   \n331       0                  0               0                    0   \n\n     Campaign spending limit Campaign start date  ... Outbound clicks  \\\n0                        0.0          2020-04-08  ...             0.0   \n1                        0.0          2020-04-14  ...          8028.0   \n2                        0.0          2020-04-07  ...            67.0   \n3                        0.0          2020-04-03  ...             0.0   \n4                        0.0          2020-04-03  ...             0.0   \n..                       ...                 ...  ...             ...   \n327                      0.0                   0  ...             0.0   \n328                      0.0                   0  ...             0.0   \n329                      0.0                   0  ...             0.0   \n330                      0.0                   0  ...             0.0   \n331                      0.0                   0  ...             0.0   \n\n     Video watches at 75%  Website conversions  Website conversion value  \\\n0                  5982.0                  0.0                       0.0   \n1                 47535.0                 13.0                       0.0   \n2                  4584.0                 98.0                       0.0   \n3                  4388.0                  0.0                       0.0   \n4                  2496.0                  0.0                       0.0   \n..                    ...                  ...                       ...   \n327                   0.0                  0.0                       0.0   \n328                   0.0                  0.0                       0.0   \n329                   0.0                  0.0                       0.0   \n330                   0.0                  0.0                       0.0   \n331                   0.0                  0.0                       0.0   \n\n     Website leads conversion value  Unique conversions  Unique leads  \\\n0                               0.0                 0.0           0.0   \n1                               0.0                 0.0           0.0   \n2                               0.0                 0.0           5.0   \n3                               0.0                 0.0           0.0   \n4                               0.0                 0.0           0.0   \n..                              ...                 ...           ...   \n327                             0.0                 0.0           0.0   \n328                             0.0                 0.0           0.0   \n329                             0.0                 0.0           0.0   \n330                             0.0                 0.0           0.0   \n331                             0.0                 0.0           0.0   \n\n     Conversion value of purchase on Facebook  Cost per lead (form)  \\\n0                                         0.0                   0.0   \n1                                         0.0                   0.0   \n2                                         0.0                   0.0   \n3                                         0.0                   0.0   \n4                                         0.0                   0.0   \n..                                        ...                   ...   \n327                                       0.0                   0.0   \n328                                       0.0                   0.0   \n329                                       0.0                   0.0   \n330                                       0.0                   0.0   \n331                                       0.0                   0.0   \n\n     Leads (form)  \n0             0.0  \n1             0.0  \n2             0.0  \n3             0.0  \n4             0.0  \n..            ...  \n327           0.0  \n328           0.0  \n329           0.0  \n330           0.0  \n331           0.0  \n\n[332 rows x 28 columns]\n"
    }
   ],
   "source": [
    "print (df)"
   ]
  },
  {
   "cell_type": "code",
   "execution_count": null,
   "metadata": {},
   "outputs": [],
   "source": []
  }
 ],
 "metadata": {
  "kernelspec": {
   "display_name": "Python 3",
   "language": "python",
   "name": "python3"
  },
  "language_info": {
   "codemirror_mode": {
    "name": "ipython",
    "version": 3
   },
   "file_extension": ".py",
   "mimetype": "text/x-python",
   "name": "python",
   "nbconvert_exporter": "python",
   "pygments_lexer": "ipython3",
   "version": "3.7.5-final"
  }
 },
 "nbformat": 4,
 "nbformat_minor": 4
}